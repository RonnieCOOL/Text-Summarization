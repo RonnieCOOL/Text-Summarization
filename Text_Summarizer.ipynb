{
  "nbformat": 4,
  "nbformat_minor": 0,
  "metadata": {
    "colab": {
      "provenance": [],
      "authorship_tag": "ABX9TyOMT3IfKiwhZUOpTD7pJm5o",
      "include_colab_link": true
    },
    "kernelspec": {
      "name": "python3",
      "display_name": "Python 3"
    },
    "language_info": {
      "name": "python"
    }
  },
  "cells": [
    {
      "cell_type": "markdown",
      "metadata": {
        "id": "view-in-github",
        "colab_type": "text"
      },
      "source": [
        "<a href=\"https://colab.research.google.com/github/RonnieCOOL/Text-Summarizer/blob/main/Text_Summarizer.ipynb\" target=\"_parent\"><img src=\"https://colab.research.google.com/assets/colab-badge.svg\" alt=\"Open In Colab\"/></a>"
      ]
    },
    {
      "cell_type": "code",
      "execution_count": 1,
      "metadata": {
        "colab": {
          "base_uri": "https://localhost:8080/"
        },
        "id": "bkwaXjp4KfL4",
        "outputId": "74523a7d-33e0-4406-e729-badb84e137fc"
      },
      "outputs": [
        {
          "output_type": "stream",
          "name": "stdout",
          "text": [
            "Using matplotlib backend: agg\n"
          ]
        }
      ],
      "source": [
        "import re\n",
        "import string\n",
        "import numpy as np\n",
        "import matplotlib.pyplot as plt\n",
        "from nltk import pos_tag\n",
        "from nltk.tokenize import sent_tokenize, word_tokenize\n",
        "from nltk.stem.wordnet import WordNetLemmatizer\n",
        "from nltk.corpus.reader.wordnet import NOUN, VERB, ADJ, ADV\n",
        "from nltk.corpus import brown, stopwords\n",
        "from nltk.cluster.util import cosine_distance\n",
        "from operator import itemgetter\n",
        "%matplotlib"
      ]
    },
    {
      "cell_type": "code",
      "source": [
        "sentences = brown.sents('ca03')"
      ],
      "metadata": {
        "id": "UCIN41r2QyMF"
      },
      "execution_count": 2,
      "outputs": []
    },
    {
      "cell_type": "code",
      "source": [
        "len(sentences)"
      ],
      "metadata": {
        "colab": {
          "base_uri": "https://localhost:8080/"
        },
        "id": "xATXMTcNQ2sQ",
        "outputId": "09b6d130-dce2-40e1-c520-9a460ee0b4a2"
      },
      "execution_count": 3,
      "outputs": [
        {
          "output_type": "execute_result",
          "data": {
            "text/plain": [
              "112"
            ]
          },
          "metadata": {},
          "execution_count": 3
        }
      ]
    },
    {
      "cell_type": "code",
      "source": [
        "[' '.join(sent) for sent in sentences]"
      ],
      "metadata": {
        "colab": {
          "base_uri": "https://localhost:8080/"
        },
        "id": "2An_37VVQ6Fv",
        "outputId": "ac6e9bc1-a86a-438b-b0a2-e608d9afd67d"
      },
      "execution_count": 4,
      "outputs": [
        {
          "output_type": "execute_result",
          "data": {
            "text/plain": [
              "['Several defendants in the Summerdale police burglary trial made statements indicating their guilt at the time of their arrest , Judge James B. Parsons was told in Criminal court yesterday .',\n",
              " 'The disclosure by Charles Bellows , chief defense counsel , startled observers and was viewed as the prelude to a quarrel between the six attorneys representing the eight former policemen now on trial .',\n",
              " 'Bellows made the disclosure when he asked Judge Parsons to grant his client , Alan Clements , 30 , a separate trial .',\n",
              " 'Bellows made the request while the all-woman jury was out of the courtroom .',\n",
              " 'Fears prejudicial aspects',\n",
              " \"`` The statements may be highly prejudicial to my client '' , Bellows told the court .\",\n",
              " '`` Some of the defendants strongly indicated they knew they were receiving stolen property .',\n",
              " \"It is impossible to get a fair trial when some of the defendants made statements involving themselves and others '' .\",\n",
              " \"Judge Parsons leaned over the bench and inquired , `` You mean some of the defendants made statements admitting this '' ? ?\",\n",
              " \"`` Yes , your honor '' , replied Bellows .\",\n",
              " '`` What this amounts to , if true , is that there will be a free-for-all fight in this case .',\n",
              " \"There is a conflict among the defendants '' .\",\n",
              " 'Washington , July 24',\n",
              " '-- President Kennedy today pushed aside other White House business to devote all his time and attention to working on the Berlin crisis address he will deliver tomorrow night to the American people over nationwide television and radio .',\n",
              " 'The President spent much of the week-end at his summer home on Cape Cod writing the first drafts of portions of the address with the help of White House aids in Washington with whom he talked by telephone .',\n",
              " \"Shortly after the Chief Executive returned to Washington in midmorning from Hyannis Port , Mass. , a White House spokesman said the address text still had `` quite a way to go '' toward completion .\",\n",
              " 'Decisions are made',\n",
              " \"Asked to elaborate , Pierre Salinger , White House press secretary , replied , `` I would say it's got to go thru several more drafts '' .\",\n",
              " \"Salinger said the work President Kennedy , advisers , and members of his staff were doing on the address involved composition and wording , rather than last minute decisions on administration plans to meet the latest Berlin crisis precipitated by Russia's demands and proposals for the city .\",\n",
              " \"The last 10 cases in the investigation of the Nov. 8 election were dismissed yesterday by Acting Judge John M. Karns , who charged that the prosecution obtained evidence `` by unfair and fundamentally illegal means '' .\",\n",
              " \"Karns said that the cases involved a matter `` of even greater significance than the guilt or innocence '' of the 50 persons .\",\n",
              " \"He said evidence was obtained `` in violation of the legal rights of citizens '' .\",\n",
              " \"Karns' ruling pertained to eight of the 10 cases .\",\n",
              " \"In the two other cases he ruled that the state had been `` unable to make a case '' .\",\n",
              " 'Contempt proceedings originally had been brought against 677 persons in 133 precincts by Morris J. Wexler , special prosecutor .',\n",
              " 'Issue jury subpoenas',\n",
              " 'Wexler admitted in earlier court hearings that he issued grand jury subpenas to about 200 persons involved in the election investigation , questioned the individuals in the Criminal courts building , but did not take them before the grand jury .',\n",
              " 'Mayer Goldberg , attorney for election judges in the 58th precinct of the 23d ward , argued this procedure constituted intimidation .',\n",
              " 'Wexler has denied repeatedly that coercion was used in questioning .',\n",
              " \"Karns said it was a `` wrongful act '' for Wexler to take statements `` privately and outside of the grand jury room '' .\",\n",
              " \"He said this constituted a `` very serious misuse '' of the Criminal court processes .\",\n",
              " \"`` Actually , the abuse of the process may have constituted a contempt of the Criminal court of Cook county , altho vindication of the authority of that court is not the function of this court '' , said Karns , who is a City judge in East St. Louis sitting in Cook County court .\",\n",
              " 'Faced seven cases',\n",
              " 'Karns had been scheduled this week to hear seven cases involving 35 persons .',\n",
              " \"Wexler had charged the precinct judges in these cases with `` complementary '' miscount of the vote , in which votes would be taken from one candidate and given to another .\",\n",
              " 'The cases involved judges in the 33d , 24th , and 42d precincts of the 31st ward , the 21st and 28th precincts of the 29th ward , the 18th precinct of the 4th ward , and the 9th precinct of the 23d ward .',\n",
              " 'The case of the judges in the 58th precinct of the 23d ward had been heard previously and taken under advisement by Karns .',\n",
              " 'Two other cases also were under advisement .',\n",
              " 'Claims precedent lacking',\n",
              " 'After reading his statement discharging the 23d ward case , Karns told Wexler that if the seven cases scheduled for trial also involved persons who had been subpenaed , he would dismiss them .',\n",
              " 'Washington , Feb. 9',\n",
              " '-- President Kennedy today proposed a mammoth new medical care program whereby social security taxes on 70 million American workers would be raised to pay the hospital and some other medical bills of 14.2 million Americans over 65 who are covered by social security or railroad retirement programs .',\n",
              " 'The President , in a special message to Congress , tied in with his aged care plan requests for large federal grants to finance medical and dental scholarships , build 20 new medical and 20 new dental schools , and expand child health care and general medical research .',\n",
              " 'The aged care plan , similar to one the President sponsored last year as a senator , a fight on Capitol hill .',\n",
              " 'It was defeated in Congress last year .',\n",
              " 'Cost up to $37 a year',\n",
              " 'It would be financed by boosting the social security payroll tax by as much as $37 a year for each of the workers now paying such taxes .',\n",
              " 'The social security payroll tax is now 6 per cent -- 3 per cent on each worker and employer -- on the first $4,800 of pay per year .',\n",
              " 'The Kennedy plan alone would boost the base to $5,000 a year and the payroll tax to 6.5 per cent -- 3.25 per cent each .',\n",
              " 'Similar payroll tax boosts would be imposed on those under the railroad retirement system .',\n",
              " 'The payroll tax would actually rise to 7.5 per cent starting Jan. 1 , 1963 , if the plan is approved , because the levy is already scheduled to go up by 1 per cent on that date to pay for other social security costs .',\n",
              " 'Outlays would increase',\n",
              " 'Officials estimated the annual tax boost for the medical plan would amount to 1.5 billion dollars and that medical benefits paid out would run 1 billion or more in the first year , 1963 .',\n",
              " 'Both figures would go higher in later years .',\n",
              " 'Other parts of the Kennedy health plan would entail federal grants of 750 million to 1 billion dollars over the next 10 years .',\n",
              " 'These would be paid for out of general , not payroll , taxes .',\n",
              " 'Nursing home care',\n",
              " 'The aged care plan carries these benefits for persons over 65 who are under the social security and railroad retirement systems : 1',\n",
              " 'Full payment of hospital bills for stays up to 90 days for each illness , except that the patient would pay $10 a day of the cost for the first nine days .',\n",
              " '2',\n",
              " 'Full payment of nursing home bills for up to 180 days following discharge from a hospital .',\n",
              " \"A patient could receive up to 300 days paid-for nursing home care under a `` unit formula '' allowing more of such care for those who use none or only part of the hospital-care credit .\",\n",
              " '3',\n",
              " 'Hospital outpatient clinic diagnostic service for all costs in excess of $20 a patient .',\n",
              " '4',\n",
              " 'Community visiting nurse services at home for up to 240 days an illness .',\n",
              " 'The President noted that Congress last year passed a law providing grants to states to help pay medical bills of the needy aged .',\n",
              " 'Calls proposal modest',\n",
              " \"He said his plan is designed to `` meet the needs of those millions who have no wish to receive care at the taxpayers' expense , but who are nevertheless staggered by the drain on their savings -- or those of their children -- caused by an extended hospital stay '' .\",\n",
              " \"`` This is a very modest proposal cut to meet absolutely essential needs '' , he said , `` and with sufficient ' deductible ' requirements to discourage any malingering or unnecessary overcrowding of our hospitals .\",\n",
              " '`` This is not a program of socialized medicine .',\n",
              " 'It is a program of prepayment of health costs with absolute freedom of choice guaranteed .',\n",
              " \"Every person will choose his own doctor and hospital '' .\",\n",
              " \"Wouldn't pay doctors\",\n",
              " 'The plan does not cover doctor bills .',\n",
              " 'They would still be paid by the patient .',\n",
              " \"Apart from the aged care plan the President's most ambitious and costly proposals were for federal scholarships , and grants to build or enlarge medical and dental schools .\",\n",
              " \"The President said the nation's 92 medical and 47 dental schools cannot now handle the student load needed to meet the rising need for health care .\",\n",
              " \"Moreover , he said , many qualified young people are not going into medicine and dentistry because they can't afford the schooling costs .\",\n",
              " 'Contributions to schools',\n",
              " 'The scholarship plan would provide federal contributions to each medical and dental school equal to $1,500 a year for one-fourth of the first year students .',\n",
              " 'The schools could use the money to pay 4-year scholarships , based on need , of up to $2,000 a year per student .',\n",
              " \"In addition , the government would pay a $1,000 `` cost of education '' grant to the schools for each $1,500 in scholarship grants .\",\n",
              " 'Officials estimated the combined programs would cost 5.1 million dollars the first year and would go up to 21 millions by 1966 .',\n",
              " \"The President recommended federal `` matching grants '' totaling 700 million dollars in 10 years for constructing new medical and dental schools or enlarging the capacity of existing ones .\",\n",
              " 'More for nursing homes',\n",
              " \"In the area of `` community health services '' , the President called for doubling the present 10 million dollar a year federal grants for nursing home construction .\",\n",
              " \"He asked for another 10 million dollar `` initial '' appropriation for `` stimulatory grants '' to states to improve nursing homes .\",\n",
              " 'He further proposed grants of an unspecified sum for experimental hospitals .',\n",
              " \"In the child health field , the President said he will recommend later an increase in funds for programs under the children's bureau .\",\n",
              " 'He also asked Congress to approve establishment of a national child health institute .',\n",
              " 'Asks research funds',\n",
              " 'The President said he will ask Congress to increase grants to states for vocational rehabilitation .',\n",
              " 'He did not say by how much .',\n",
              " 'For medical research he asked a 20 million dollar a year increase , from 30 to 50 millions , in matching grants for building research facilities .',\n",
              " 'The President said he will also propose increasing , by an unspecified amount , the 540 million dollars in the 1961-62 budget for direct government research in medicine .',\n",
              " \"The President said his proposals combine the `` indispensable elements in a sound health program -- people , knowledge , services , facilities , and the means to pay for them '' .\",\n",
              " 'Reaction as expected',\n",
              " 'Congressional reaction to the message was along expected lines .',\n",
              " \"Legislators who last year opposed placing aged-care under the social security system criticized the President's plan .\",\n",
              " 'Those who backed a similar plan last year hailed the message .',\n",
              " 'Senate Republican Leader Dirksen ( Ill. ) and House Republican Leader Charles Halleck ( Ind. ) said the message did not persuade them to change their opposition to compulsory medical insurance .',\n",
              " 'Halleck said the voluntary care plan enacted last year should be given a fair trial first .',\n",
              " \"House Speaker Sam Rayburn ( D. , Tex. ) called the Kennedy program `` a mighty fine thing '' , but made no prediction on its fate in the House .\",\n",
              " 'Washington , Feb. 9',\n",
              " \"-- Acting hastily under White House pressure , the Senate tonight confirmed Robert C. Weaver as the nation's federal housing chief .\",\n",
              " 'Only 11 senators were on the floor and there was no record vote .',\n",
              " \"A number of scattered `` ayes '' and `` noes '' was heard .\",\n",
              " 'Customary Senate rules were ignored in order to speed approval of the Negro leader as administrator of the housing and home finance agency .',\n",
              " 'In the last eight years , all Presidential appointments , including those of cabinet rank , have been denied immediate action because of a Senate rule requiring at least a 24 hour delay after they are reported to the floor .',\n",
              " 'Enforce by demand',\n",
              " \"The rule was enforced by demand of Sen. Wayne Morse ( D. , Ore. ) in connection with President Eisenhower's cabinet selections in 1953 and President Kennedy's in 1961 .\"]"
            ]
          },
          "metadata": {},
          "execution_count": 4
        }
      ]
    },
    {
      "cell_type": "code",
      "source": [
        "class TextCleaner():\n",
        "    \n",
        "    def __init__(self):\n",
        "        self.stop_words = set(stopwords.words(\"english\"))\n",
        "        self.punctuations = set(string.punctuation)\n",
        "        self.pos_tags = {\n",
        "                NOUN: ['NN', 'NNS', 'NNP', 'NNPS', 'PRP', 'PRP$', 'WP', 'WP$'],\n",
        "                VERB: ['VB', 'VBD', 'VBG', 'VBN', 'VBP', 'VBZ'],\n",
        "                ADJ: ['JJ', 'JJR', 'JJS'],\n",
        "                ADV: ['RB', 'RBR', 'RBS', 'WRB']\n",
        "        }\n",
        "\n",
        "\n",
        "    def _remove_stop_words(self, words):\n",
        "        return [w for w in words if w not in self.stop_words]\n",
        "     \n",
        "    \n",
        "    def _remove_regex(self):\n",
        "        self.input_sent = \" \".join([w.lower() for w in self.input_sent])\n",
        "        self.input_sent = re.sub(r\"i'm\", \"i am\", self.input_sent)\n",
        "        self.input_sent = re.sub(r\"he's\", \"he is\", self.input_sent)\n",
        "        self.input_sent = re.sub(r\"she's\", \"she is\", self.input_sent)\n",
        "        self.input_sent = re.sub(r\"that's\", \"that is\", self.input_sent)\n",
        "        self.input_sent = re.sub(r\"what's\", \"what is\", self.input_sent)\n",
        "        self.input_sent = re.sub(r\"where's\", \"where is\", self.input_sent)\n",
        "        self.input_sent = re.sub(r\"\\'ll\", \" will\", self.input_sent)\n",
        "        self.input_sent = re.sub(r\"\\'ve\", \" have\", self.input_sent)\n",
        "        self.input_sent = re.sub(r\"\\'re\", \" are\", self.input_sent)\n",
        "        self.input_sent = re.sub(r\"\\'d\", \" would\", self.input_sent)\n",
        "        self.input_sent = re.sub(r\"won't\", \"will not\", self.input_sent)\n",
        "        self.input_sent = re.sub(r\"can't\", \"cannot\", self.input_sent)\n",
        "        self.input_sent = re.sub(r\"don't\", \"do not\", self.input_sent)\n",
        "        patterns = re.finditer(\"#[\\w]*\", self.input_sent)\n",
        "        for pattern in patterns:\n",
        "            self.input_sent = re.sub(pattern.group().strip(), \"\", self.input_sent)\n",
        "        self.input_sent = \"\".join(ch for ch in self.input_sent if ch not in self.punctuations)\n",
        "    \n",
        "    \n",
        "    def _tokenize(self):\n",
        "        return word_tokenize(self.input_sent)\n",
        "    \n",
        "    \n",
        "    def _process_content_for_pos(self, words):\n",
        "        tagged_words = pos_tag(words)\n",
        "        pos_words = []\n",
        "        for word in tagged_words:\n",
        "            flag = False\n",
        "            for key, value in self.pos_tags.items():\n",
        "                if word[1] in value:\n",
        "                    pos_words.append((word[0], key))\n",
        "                    flag = True\n",
        "                    break\n",
        "            if not flag:\n",
        "                pos_words.append((word[0], NOUN))\n",
        "        return pos_words\n",
        "       \n",
        "                 \n",
        "    def _remove_noise(self):\n",
        "        self._remove_regex()\n",
        "        words = self._tokenize()\n",
        "        noise_free_words = self._remove_stop_words(words)\n",
        "        return noise_free_words\n",
        "    \n",
        "    \n",
        "    def _normalize_text(self, words):\n",
        "        lem = WordNetLemmatizer()\n",
        "        pos_words = self._process_content_for_pos(words)\n",
        "        normalized_words = [lem.lemmatize(w, pos=p) for w, p in pos_words]\n",
        "        return normalized_words\n",
        "    \n",
        "    \n",
        "    def clean_up(self, input_sent):\n",
        "        self.input_sent = input_sent\n",
        "        cleaned_words = self._remove_noise()\n",
        "        cleaned_words = self._normalize_text(cleaned_words)\n",
        "        return cleaned_words"
      ],
      "metadata": {
        "id": "3GXM3cNxQ_p8"
      },
      "execution_count": 5,
      "outputs": []
    },
    {
      "cell_type": "code",
      "source": [
        "# PageRank Algorithm\n",
        "def pagerank(M, eps=1.0e-8, d=0.85):\n",
        "    N = M.shape[1]\n",
        "    v = np.random.rand(N, 1)\n",
        "    v = v / np.linalg.norm(v, 1)\n",
        "    last_v = np.ones((N, 1), dtype=np.float32) * np.inf\n",
        "    M_hat = (d * M) + (((1 - d) / N) * np.ones((N, N), dtype=np.float32))\n",
        "    \n",
        "    while np.linalg.norm(v - last_v, 2) > eps:\n",
        "        last_v = v\n",
        "        v = np.matmul(M_hat, v)\n",
        "    return v"
      ],
      "metadata": {
        "id": "W7c5nBcxRBlS"
      },
      "execution_count": 6,
      "outputs": []
    },
    {
      "cell_type": "code",
      "source": [
        "# Calculating cosine similarity among sentences\n",
        "def sentence_similarity(sent1, sent2):\n",
        "    text_cleaner = TextCleaner()\n",
        "    \n",
        "    sent1 = text_cleaner.clean_up(sent1)\n",
        "    sent2 = text_cleaner.clean_up(sent2)\n",
        "    \n",
        "    all_words = list(set(sent1 + sent2))\n",
        "    \n",
        "    vector1 = [0] * len(all_words)\n",
        "    vector2 = [0] * len(all_words)\n",
        "    \n",
        "    for w in sent1:\n",
        "        vector1[all_words.index(w)] += 1\n",
        "    \n",
        "    for w in sent2:\n",
        "        vector2[all_words.index(w)] += 1\n",
        "    \n",
        "    return 1 - cosine_distance(vector1, vector2)"
      ],
      "metadata": {
        "id": "ycLOz21PRHGV"
      },
      "execution_count": 7,
      "outputs": []
    },
    {
      "cell_type": "code",
      "source": [
        "# Similarity Adjacency Matrix for PageRank\n",
        "def build_similarity_matrix(sentences):\n",
        "    S = np.zeros((len(sentences), len(sentences)))\n",
        "    for i in range(len(sentences)):\n",
        "        for j in range(len(sentences)):\n",
        "            if i == j:\n",
        "                continue\n",
        "            else:\n",
        "                S[i][j] = sentence_similarity(sentences[i], sentences[j])\n",
        "    \n",
        "    for i in range(len(S)):\n",
        "        S[i] /= S[i].sum()\n",
        "    return S"
      ],
      "metadata": {
        "id": "QZd0b7ODRI_6"
      },
      "execution_count": 8,
      "outputs": []
    },
    {
      "cell_type": "code",
      "source": [
        "S = build_similarity_matrix(sentences)"
      ],
      "metadata": {
        "colab": {
          "base_uri": "https://localhost:8080/"
        },
        "id": "tXeV1MozRKzh",
        "outputId": "49805c88-f831-475e-d220-93083d92d790"
      },
      "execution_count": 9,
      "outputs": [
        {
          "output_type": "stream",
          "name": "stderr",
          "text": [
            "/usr/local/lib/python3.7/dist-packages/ipykernel_launcher.py:11: RuntimeWarning: invalid value encountered in true_divide\n",
            "  # This is added back by InteractiveShellApp.init_path()\n"
          ]
        }
      ]
    },
    {
      "cell_type": "code",
      "source": [
        "S"
      ],
      "metadata": {
        "colab": {
          "base_uri": "https://localhost:8080/"
        },
        "id": "D1lN-oT6RMNt",
        "outputId": "f5d836d5-df63-474e-88f9-c8495d2a5065"
      },
      "execution_count": 10,
      "outputs": [
        {
          "output_type": "execute_result",
          "data": {
            "text/plain": [
              "array([[0.        , 0.01687557, 0.07942969, ..., 0.        , 0.        ,\n",
              "        0.        ],\n",
              "       [0.04705707, 0.        , 0.17510134, ..., 0.04705707, 0.        ,\n",
              "        0.        ],\n",
              "       [0.06799961, 0.05375841, 0.        , ..., 0.        , 0.        ,\n",
              "        0.        ],\n",
              "       ...,\n",
              "       [0.        , 0.01895401, 0.        , ..., 0.        , 0.        ,\n",
              "        0.03790803],\n",
              "       [0.        , 0.        , 0.        , ..., 0.        , 0.        ,\n",
              "        0.71010205],\n",
              "       [0.        , 0.        , 0.        , ..., 0.039031  , 0.12342687,\n",
              "        0.        ]])"
            ]
          },
          "metadata": {},
          "execution_count": 10
        }
      ]
    },
    {
      "cell_type": "code",
      "source": [
        "sentence_ranks = pagerank(S)"
      ],
      "metadata": {
        "id": "rXWPeRuRReGh"
      },
      "execution_count": 11,
      "outputs": []
    },
    {
      "cell_type": "code",
      "source": [
        "sentence_ranks"
      ],
      "metadata": {
        "colab": {
          "base_uri": "https://localhost:8080/"
        },
        "id": "vHbVYIlqRgZP",
        "outputId": "941a87dd-79da-463a-b4e1-d42b0593e5b5"
      },
      "execution_count": 12,
      "outputs": [
        {
          "output_type": "execute_result",
          "data": {
            "text/plain": [
              "array([[1.88548821e-02],\n",
              "       [6.55282597e-03],\n",
              "       [8.29578568e-03],\n",
              "       [7.44373886e-03],\n",
              "       [5.58660146e-03],\n",
              "       [4.52984224e-03],\n",
              "       [4.99660200e-03],\n",
              "       [1.57881208e-02],\n",
              "       [1.05258395e-02],\n",
              "       [6.49803749e-03],\n",
              "       [5.50145201e-03],\n",
              "       [1.89734986e-02],\n",
              "       [1.48051601e-02],\n",
              "       [1.25541667e-02],\n",
              "       [1.89610879e-02],\n",
              "       [1.96704673e-02],\n",
              "       [1.80403302e-02],\n",
              "       [1.15302902e-02],\n",
              "       [1.41160233e-03],\n",
              "       [1.05722134e-02],\n",
              "       [1.09833692e-02],\n",
              "       [1.11123861e-02],\n",
              "       [3.19474573e-04],\n",
              "       [1.45642746e-02],\n",
              "       [8.31259585e-03],\n",
              "       [1.40540356e-02],\n",
              "       [2.10450333e-03],\n",
              "       [4.93080637e-03],\n",
              "       [6.38187192e-03],\n",
              "       [1.21344513e-02],\n",
              "       [8.62344179e-03],\n",
              "       [1.39783984e-02],\n",
              "       [2.59184152e-03],\n",
              "       [9.10677397e-03],\n",
              "       [6.19607998e-03],\n",
              "       [2.19223157e-03],\n",
              "       [8.36613055e-03],\n",
              "       [1.74079361e-02],\n",
              "       [6.74489224e-03],\n",
              "       [1.15109389e-02],\n",
              "       [1.69671822e-03],\n",
              "       [1.35889048e-02],\n",
              "       [1.31896642e-02],\n",
              "       [1.22153294e-02],\n",
              "       [1.06375926e-02],\n",
              "       [8.87018328e-03],\n",
              "       [5.79564649e-03],\n",
              "       [1.88403998e-03],\n",
              "       [2.58411442e-03],\n",
              "       [1.20698341e-02],\n",
              "       [1.34121826e-03],\n",
              "       [1.75000723e-02],\n",
              "       [8.92466966e-03],\n",
              "       [2.16965287e-04],\n",
              "       [6.80884515e-03],\n",
              "       [3.50379870e-03],\n",
              "       [1.31226317e-02],\n",
              "       [3.22464975e-03],\n",
              "       [1.10643631e-02],\n",
              "       [1.41751100e-02],\n",
              "       [1.69240138e-02],\n",
              "       [9.57241763e-03],\n",
              "       [8.95347364e-04],\n",
              "       [4.04612942e-03],\n",
              "       [3.87472003e-03],\n",
              "       [1.15130203e-02],\n",
              "       [1.47280318e-02],\n",
              "       [1.35031019e-02],\n",
              "       [7.41352883e-03],\n",
              "       [6.66689954e-03],\n",
              "       [5.85521147e-03],\n",
              "       [9.16553612e-03],\n",
              "       [4.25971998e-03],\n",
              "       [1.42436051e-02],\n",
              "       [1.93693809e-02],\n",
              "       [1.15562045e-02],\n",
              "       [6.71071248e-03],\n",
              "       [6.35075594e-03],\n",
              "       [6.91532194e-04],\n",
              "       [1.12800458e-03],\n",
              "       [5.34043334e-04],\n",
              "       [7.39689000e-03],\n",
              "       [1.18101747e-02],\n",
              "       [1.14381250e-02],\n",
              "       [4.22838280e-03],\n",
              "       [1.00419229e-03],\n",
              "       [4.18167989e-03],\n",
              "       [8.30136563e-05],\n",
              "       [1.15718269e-02],\n",
              "       [1.79725354e-02],\n",
              "       [1.27174659e-02],\n",
              "       [8.08521287e-03],\n",
              "       [7.70868556e-03],\n",
              "       [6.00252571e-03],\n",
              "       [1.25718680e-02],\n",
              "       [1.16273761e-02],\n",
              "       [3.18132376e-03],\n",
              "       [4.94070349e-03],\n",
              "       [1.69195497e-02],\n",
              "       [6.60150075e-03],\n",
              "       [5.26557304e-03],\n",
              "       [1.47473678e-02],\n",
              "       [1.24331459e-02],\n",
              "       [6.63913466e-03],\n",
              "       [7.40231265e-03],\n",
              "       [1.73932468e-02],\n",
              "       [2.70353902e-03],\n",
              "       [1.17421888e-02],\n",
              "       [1.93354628e-02],\n",
              "       [1.32610602e-02],\n",
              "       [4.35678579e-03],\n",
              "       [5.51902773e-04]])"
            ]
          },
          "metadata": {},
          "execution_count": 12
        }
      ]
    },
    {
      "cell_type": "code",
      "source": [
        "ranked_sentence_indexes = [item[0] for item in sorted(enumerate(sentence_ranks), key=lambda item: -item[1])]"
      ],
      "metadata": {
        "id": "6YbWtneURk4b"
      },
      "execution_count": 13,
      "outputs": []
    },
    {
      "cell_type": "code",
      "source": [
        "ranked_sentence_indexes"
      ],
      "metadata": {
        "colab": {
          "base_uri": "https://localhost:8080/"
        },
        "id": "IoGgCnJWRnL7",
        "outputId": "f6abaf84-e608-4498-8a2e-f01138e4e53b"
      },
      "execution_count": 14,
      "outputs": [
        {
          "output_type": "execute_result",
          "data": {
            "text/plain": [
              "[15,\n",
              " 74,\n",
              " 108,\n",
              " 11,\n",
              " 14,\n",
              " 0,\n",
              " 16,\n",
              " 89,\n",
              " 51,\n",
              " 37,\n",
              " 105,\n",
              " 60,\n",
              " 98,\n",
              " 7,\n",
              " 12,\n",
              " 101,\n",
              " 66,\n",
              " 23,\n",
              " 73,\n",
              " 59,\n",
              " 25,\n",
              " 31,\n",
              " 41,\n",
              " 67,\n",
              " 109,\n",
              " 42,\n",
              " 56,\n",
              " 90,\n",
              " 94,\n",
              " 13,\n",
              " 102,\n",
              " 43,\n",
              " 29,\n",
              " 49,\n",
              " 82,\n",
              " 107,\n",
              " 95,\n",
              " 88,\n",
              " 75,\n",
              " 17,\n",
              " 65,\n",
              " 39,\n",
              " 83,\n",
              " 21,\n",
              " 58,\n",
              " 20,\n",
              " 44,\n",
              " 19,\n",
              " 8,\n",
              " 61,\n",
              " 71,\n",
              " 33,\n",
              " 52,\n",
              " 45,\n",
              " 30,\n",
              " 36,\n",
              " 24,\n",
              " 2,\n",
              " 91,\n",
              " 92,\n",
              " 3,\n",
              " 68,\n",
              " 104,\n",
              " 81,\n",
              " 54,\n",
              " 38,\n",
              " 76,\n",
              " 69,\n",
              " 103,\n",
              " 99,\n",
              " 1,\n",
              " 9,\n",
              " 28,\n",
              " 77,\n",
              " 34,\n",
              " 93,\n",
              " 70,\n",
              " 46,\n",
              " 4,\n",
              " 10,\n",
              " 100,\n",
              " 6,\n",
              " 97,\n",
              " 27,\n",
              " 5,\n",
              " 110,\n",
              " 72,\n",
              " 84,\n",
              " 86,\n",
              " 63,\n",
              " 64,\n",
              " 55,\n",
              " 57,\n",
              " 96,\n",
              " 106,\n",
              " 32,\n",
              " 48,\n",
              " 35,\n",
              " 26,\n",
              " 47,\n",
              " 40,\n",
              " 18,\n",
              " 50,\n",
              " 79,\n",
              " 85,\n",
              " 62,\n",
              " 78,\n",
              " 111,\n",
              " 80,\n",
              " 22,\n",
              " 53,\n",
              " 87]"
            ]
          },
          "metadata": {},
          "execution_count": 14
        }
      ]
    },
    {
      "cell_type": "code",
      "source": [
        "SUMMARY_SIZE = 5"
      ],
      "metadata": {
        "id": "4bxAUtOqRusu"
      },
      "execution_count": 15,
      "outputs": []
    },
    {
      "cell_type": "code",
      "source": [
        "selected_sentences = sorted(ranked_sentence_indexes[:SUMMARY_SIZE])"
      ],
      "metadata": {
        "id": "PRaPSLhlRxBC"
      },
      "execution_count": 16,
      "outputs": []
    },
    {
      "cell_type": "code",
      "source": [
        "selected_sentences"
      ],
      "metadata": {
        "colab": {
          "base_uri": "https://localhost:8080/"
        },
        "id": "3nHWC--pR0cq",
        "outputId": "42f6b6f8-8a90-49e5-db9e-76ecacb5af88"
      },
      "execution_count": 17,
      "outputs": [
        {
          "output_type": "execute_result",
          "data": {
            "text/plain": [
              "[11, 14, 15, 74, 108]"
            ]
          },
          "metadata": {},
          "execution_count": 17
        }
      ]
    },
    {
      "cell_type": "code",
      "source": [
        "summary = itemgetter(*selected_sentences)(sentences)"
      ],
      "metadata": {
        "id": "IWgVKyokR3r5"
      },
      "execution_count": 18,
      "outputs": []
    },
    {
      "cell_type": "code",
      "source": [
        "# Generated Summary\n",
        "for sent in summary:\n",
        "    print(' '.join(sent))"
      ],
      "metadata": {
        "colab": {
          "base_uri": "https://localhost:8080/"
        },
        "id": "QeW7sfU5R6Tu",
        "outputId": "d4110395-731a-4866-d626-daf326b8ccc1"
      },
      "execution_count": 19,
      "outputs": [
        {
          "output_type": "stream",
          "name": "stdout",
          "text": [
            "There is a conflict among the defendants '' .\n",
            "The President spent much of the week-end at his summer home on Cape Cod writing the first drafts of portions of the address with the help of White House aids in Washington with whom he talked by telephone .\n",
            "Shortly after the Chief Executive returned to Washington in midmorning from Hyannis Port , Mass. , a White House spokesman said the address text still had `` quite a way to go '' toward completion .\n",
            "The plan does not cover doctor bills .\n",
            "Customary Senate rules were ignored in order to speed approval of the Negro leader as administrator of the housing and home finance agency .\n"
          ]
        }
      ]
    }
  ]
}